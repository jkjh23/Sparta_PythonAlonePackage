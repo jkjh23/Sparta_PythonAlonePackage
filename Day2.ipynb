{
 "metadata": {
  "language_info": {
   "codemirror_mode": {
    "name": "ipython",
    "version": 3
   },
   "file_extension": ".py",
   "mimetype": "text/x-python",
   "name": "python",
   "nbconvert_exporter": "python",
   "pygments_lexer": "ipython3",
   "version": "3.7.6-final"
  },
  "orig_nbformat": 2,
  "kernelspec": {
   "name": "Python 3.7.6 64-bit ('base': conda)",
   "display_name": "Python 3.7.6 64-bit ('base': conda)",
   "metadata": {
    "interpreter": {
     "hash": "9387e9e37a0af8fff0fcbade4737076ebc87d0c8fec44545ee3d2fd05cdc73df"
    }
   }
  }
 },
 "nbformat": 4,
 "nbformat_minor": 2,
 "cells": [
  {
   "source": [
    "# 가사 웹 스크래핑(크롤링)하기"
   ],
   "cell_type": "markdown",
   "metadata": {}
  },
  {
   "cell_type": "code",
   "execution_count": 4,
   "metadata": {
    "tags": []
   },
   "outputs": [
    {
     "output_type": "stream",
     "name": "stdout",
     "text": "[속보] 어제 확진자 63명, 추석 연휴 이틀간 두 자리수\n"
    }
   ],
   "source": [
    "from bs4 import BeautifulSoup\n",
    "from selenium import webdriver\n",
    "\n",
    "driver = webdriver.Chrome('tool/chromedriver')\n",
    "\n",
    "url = \"https://search.naver.com/search.naver?where=news&sm=tab_jum&query=추석\"\n",
    "\n",
    "driver.get(url)\n",
    "req = driver.page_source\n",
    "soup = BeautifulSoup(req, 'html.parser')\n",
    "\n",
    "articles = soup.select_one('#sp_nws1 > dl > dt > a')\n",
    "print(articles.text)\n",
    "\n",
    "driver.quit()"
   ]
  },
  {
   "cell_type": "code",
   "execution_count": 7,
   "metadata": {
    "tags": [
     "outputPrepend"
    ]
   },
   "outputs": [
    {
     "output_type": "stream",
     "name": "stdout",
     "text": "ot;_blank&quot;&gt;네이버뉴스&lt;/a&gt; &lt;/span&gt; &lt;/li&gt; &lt;/ul&gt; &lt;div class=&quot;newr_more&quot;&gt; &lt;a class=&quot;more_news&quot; href=&quot;#&quot; onclick=&quot;news_submit_related_option(&#39;0230003565742&#39;, 0, &#39;nws*r.more&#39;); return false;&quot;&gt;관련뉴스 4건 전체보기&lt;/a&gt; &lt;/div&gt; &lt;/dd&gt; &lt;/dl&gt; &lt;/li&gt;, &lt;li id=&quot;sp_nws20&quot;&gt; &lt;div class=&quot;thumb&quot;&gt;&lt;a class=&quot;sp_thmb thmb80&quot; href=&quot;https://imnews.imbc.com/news/2020/econo/article/5927149_32647.html&quot; onclick=&quot;return goOtherCR(this, &#39;a=nws*h.img&amp;amp;r=20&amp;amp;i=88000119_000000000000000001069669&amp;amp;g=214.0001069669&amp;amp;u=&#39;+urlencode(this.href));&quot; target=&quot;_blank&quot;&gt;&lt;img alt=&quot;‘추석 특수‘ 누린 한우&quot; class=&quot;&quot; height=&quot;80&quot; onerror=&quot;this.parentNode.style.display=&#39;none&#39;;&quot; src=&quot;https://search.pstatic.net/common/?src=https%3A%2F%2Fimgnews.pstatic.net%2Fimage%2Forigin%2F214%2F2020%2F10%2F01%2F1069669.jpg&amp;amp;type=ofullfill80_80_q75_re2&quot; width=&quot;80&quot;/&gt;&lt;span class=&quot;thmb_v&quot;&gt;&lt;/span&gt;&lt;/a&gt;&lt;/div&gt; &lt;dl&gt; &lt;dt&gt;&lt;a class=&quot;_sp_each_title&quot; href=&quot;https://imnews.imbc.com/news/2020/econo/article/5927149_32647.html&quot; onclick=&quot;return goOtherCR(this, &#39;a=nws*h.tit&amp;amp;r=20&amp;amp;i=88000119_000000000000000001069669&amp;amp;g=214.0001069669&amp;amp;u=&#39;+urlencode(this.href));&quot; target=&quot;_blank&quot; title=&quot;&#39;추석 특수&#39; 누린 한우·삼겹살…소비자가격 고공행진&quot;&gt;&#39;&lt;strong class=&quot;hl&quot;&gt;추석&lt;/strong&gt; 특수&#39; 누린 한우·삼겹살…소비자가격 고공행진&lt;/a&gt;&lt;/dt&gt; &lt;dd class=&quot;txt_inline&quot;&gt;&lt;span class=&quot;_sp_each_source&quot;&gt;MBC&lt;i class=&quot;sprenew api_ico_pick&quot;&gt;언론사 선정&lt;/i&gt;&lt;/span&gt; &lt;span class=&quot;bar&quot;&gt;&lt;/span&gt; 23시간 전 &lt;span class=&quot;bar&quot;&gt;&lt;/span&gt; &lt;a class=&quot;_sp_each_url&quot; href=&quot;https://news.naver.com/main/read.nhn?mode=LSD&amp;amp;mid=sec&amp;amp;sid1=101&amp;amp;oid=214&amp;amp;aid=0001069669&quot; onclick=&quot;return goOtherCR(this, &#39;a=nws*h.nav&amp;amp;r=20&amp;amp;i=88000119_000000000000000001069669&amp;amp;u=&#39;+urlencode(this.href));&quot; target=&quot;_blank&quot;&gt;네이버뉴스&lt;/a&gt; &lt;div class=&quot;scial&quot; id=&quot;sp_nws20_base&quot;&gt; &lt;span class=&quot;bar&quot;&gt;&lt;/span&gt; &lt;a class=&quot;bt_scial2 naver-splugin&quot; data-oninitialize=&quot;splugin_oninitialize(&#39;sp_nws20&#39;);&quot; data-style=&quot;unity-v2&quot; href=&quot;#&quot; onclick=&quot;goOtherTCR(this, &#39;a=nws*h.pplugin&amp;amp;r=20&amp;amp;i=88000119_000000000000000001069669&amp;amp;u=&#39;+urlencode(this.href)); return false;&quot;&gt;보내기&lt;/a&gt; &lt;/div&gt; &lt;/dd&gt; &lt;dd&gt;&lt;strong class=&quot;hl&quot;&gt;추석&lt;/strong&gt; 명절을 맞아 소비가 늘면서 한우와 삼겹살 소비자가격이 크게 상승했습니다. 축산물품질평가원 축산유통정보에 따르면 지난달 29일 기준 한우 등심 1㎏ 소비자가격은 10만4천 188원을 기록해 지난달 8일 이후...&lt;/dd&gt; &lt;dd&gt; &lt;ul class=&quot;relation_lst&quot;&gt; &lt;li&gt; &lt;span class=&quot;ico_bu&quot;&gt;&lt;/span&gt; &lt;a href=&quot;http://yna.kr/AKR20200930027300530?did=1195m&quot; onclick=&quot;return goOtherCR(this, &#39;a=nws*i.tit&amp;amp;r=21&amp;amp;i=880000D8_000000000000000011916636&amp;amp;g=001.0011916636&amp;amp;u=&#39;+urlencode(this.href));&quot; target=&quot;_blank&quot; title=&quot;&#39;추석 특수&#39; 누린 한우·삼겹살…소비자가격 고공행진&quot;&gt;&#39;&lt;strong class=&quot;hl&quot;&gt;추석&lt;/strong&gt; 특수&#39; 누린 한우·삼겹살…소비자가격 고공행진&lt;/a&gt; &lt;span class=&quot;txt_sinfo&quot;&gt; &lt;span class=&quot;press&quot; title=&quot;연합뉴스&quot;&gt;연합뉴스&lt;i class=&quot;sprenew api_ico_pick&quot;&gt;언론사 선정&lt;/i&gt;&lt;/span&gt; &lt;span class=&quot;bar&quot;&gt;&lt;/span&gt; 1일 전 &lt;span class=&quot;bar&quot;&gt;&lt;/span&gt;&lt;a class=&quot;_sp_each_url&quot; href=&quot;https://news.naver.com/main/read.nhn?mode=LSD&amp;amp;mid=sec&amp;amp;sid1=101&amp;amp;oid=001&amp;amp;aid=0011916636&quot; onclick=&quot;return goOtherCR(this, &#39;a=nws*i.nav&amp;amp;r=21&amp;amp;i=880000D8_000000000000000011916636&amp;amp;u=&#39;+urlencode(this.href));&quot; target=&quot;_blank&quot;&gt;네이버뉴스&lt;/a&gt; &lt;/span&gt; &lt;/li&gt; &lt;/ul&gt; &lt;/dd&gt; &lt;/dl&gt; &lt;/li&gt;, &lt;li id=&quot;sp_nws22&quot;&gt; &lt;div class=&quot;thumb&quot;&gt;&lt;a class=&quot;sp_thmb thmb80&quot; href=&quot;http://news.kbs.co.kr/news/view.do?ncd=5016431&amp;amp;ref=A&quot; onclick=&quot;return goOtherCR(this, &#39;a=nws*h.img&amp;amp;r=22&amp;amp;i=88000114_000000000000000010909649&amp;amp;g=056.0010909649&amp;amp;u=&#39;+urlencode(this.href));&quot; target=&quot;_blank&quot;&gt;&lt;img alt=&quot;추석날 고속도로 오후&quot; class=&quot;&quot; height=&quot;80&quot; onerror=&quot;this.parentNode.style.display=&#39;none&#39;;&quot; src=&quot;https://search.pstatic.net/common/?src=https%3A%2F%2Fimgnews.pstatic.net%2Fimage%2Forigin%2F056%2F2020%2F10%2F01%2F10909649.jpg&amp;amp;type=ofullfill80_80_q75_re2&quot; width=&quot;80&quot;/&gt;&lt;span class=&quot;thmb_play&quot;&gt;&lt;/span&gt;&lt;span class=&quot;thmb_v&quot;&gt;&lt;/span&gt;&lt;/a&gt;&lt;/div&gt; &lt;dl&gt; &lt;dt&gt;&lt;a class=&quot;_sp_each_title&quot; href=&quot;http://news.kbs.co.kr/news/view.do?ncd=5016431&amp;amp;ref=A&quot; onclick=&quot;return goOtherCR(this, &#39;a=nws*h.tit&amp;amp;r=22&amp;amp;i=88000114_000000000000000010909649&amp;amp;g=056.0010909649&amp;amp;u=&#39;+urlencode(this.href));&quot; target=&quot;_blank&quot; title=&quot;추석날 고속도로 오후 1~2시 정체 극심…“오후 10시쯤 해소 전망”&quot;&gt;&lt;strong class=&quot;hl&quot;&gt;추석&lt;/strong&gt;날 고속도로 오후 1~2시 정체 극심…“오후 10시쯤 해소 전망”&lt;/a&gt;&lt;/dt&gt; &lt;dd class=&quot;txt_inline&quot;&gt;&lt;span class=&quot;_sp_each_source&quot;&gt;KBS&lt;i class=&quot;sprenew api_ico_pick&quot;&gt;언론사 선정&lt;/i&gt;&lt;/span&gt; &lt;span class=&quot;bar&quot;&gt;&lt;/span&gt; 21시간 전 &lt;span class=&quot;bar&quot;&gt;&lt;/span&gt; &lt;a class=&quot;_sp_each_url&quot; href=&quot;https://news.naver.com/main/read.nhn?mode=LSD&amp;amp;mid=sec&amp;amp;sid1=102&amp;amp;oid=056&amp;amp;aid=0010909649&quot; onclick=&quot;return goOtherCR(this, &#39;a=nws*h.nav&amp;amp;r=22&amp;amp;i=88000114_000000000000000010909649&amp;amp;u=&#39;+urlencode(this.href));&quot; target=&quot;_blank&quot;&gt;네이버뉴스&lt;/a&gt; &lt;div class=&quot;scial&quot; id=&quot;sp_nws22_base&quot;&gt; &lt;span class=&quot;bar&quot;&gt;&lt;/span&gt; &lt;a class=&quot;bt_scial2 naver-splugin&quot; data-oninitialize=&quot;splugin_oninitialize(&#39;sp_nws22&#39;);&quot; data-style=&quot;unity-v2&quot; href=&quot;#&quot; onclick=&quot;goOtherTCR(this, &#39;a=nws*h.pplugin&amp;amp;r=22&amp;amp;i=88000114_000000000000000010909649&amp;amp;u=&#39;+urlencode(this.href)); return false;&quot;&gt;보내기&lt;/a&gt; &lt;/div&gt; &lt;/dd&gt; &lt;dd&gt;&lt;strong class=&quot;hl&quot;&gt;추석&lt;/strong&gt;날인 오늘 전국 고속도로 곳곳에서 정체가 시작됐는데요, 귀성길 정체는 오후 1~2시 최대를 기록할... [리포트] 네, &lt;strong class=&quot;hl&quot;&gt;추석&lt;/strong&gt;날인 오늘 오전부터 고속도로 정체구간은 빠르게 늘고 있는데요, 한국도로공사는 12시에 서울에서...&lt;/dd&gt; &lt;dd&gt; &lt;ul class=&quot;relation_lst&quot;&gt; &lt;li&gt; &lt;span class=&quot;ico_bu&quot;&gt;&lt;/span&gt; &lt;a href=&quot;https://biz.chosun.com/site/data/html_dir/2020/10/01/2020100100363.html?utm_source=naver&amp;amp;utm_medium=original&amp;amp;utm_campaign=biz&quot; onclick=&quot;return goOtherCR(this, &#39;a=nws*i.tit&amp;amp;r=23&amp;amp;i=88127058_000000000000000000598023&amp;amp;g=366.0000598023&amp;amp;u=&#39;+urlencode(this.href));&quot; target=&quot;_blank&quot; title=&#39;추석 오후 고속도로 양방향 정체… &quot;귀경 3시 가장 혼잡&quot;&#39;&gt;&lt;strong class=&quot;hl&quot;&gt;추석&lt;/strong&gt; 오후 고속도로 양방향 정체… &quot;귀경 3시 가장 혼잡&quot;&lt;/a&gt; &lt;span class=&quot;txt_sinfo&quot;&gt; &lt;span class=&quot;press&quot; title=&quot;조선비즈&quot;&gt;조선비즈&lt;i class=&quot;sprenew api_ico_pick&quot;&gt;언론사 선정&lt;/i&gt;&lt;/span&gt; &lt;span class=&quot;bar&quot;&gt;&lt;/span&gt; 19시간 전 &lt;span class=&quot;bar&quot;&gt;&lt;/span&gt;&lt;a class=&quot;_sp_each_url&quot; href=&quot;https://news.naver.com/main/read.nhn?mode=LSD&amp;amp;mid=sec&amp;amp;sid1=102&amp;amp;oid=366&amp;amp;aid=0000598023&quot; onclick=&quot;return goOtherCR(this, &#39;a=nws*i.nav&amp;amp;r=23&amp;amp;i=88127058_000000000000000000598023&amp;amp;u=&#39;+urlencode(this.href));&quot; target=&quot;_blank&quot;&gt;네이버뉴스&lt;/a&gt; &lt;/span&gt; &lt;/li&gt; &lt;li&gt; &lt;span class=&quot;ico_bu&quot;&gt;&lt;/span&gt; &lt;a href=&quot;http://www.wowtv.co.kr/NewsCenter/News/Read?articleId=A202010010052&amp;amp;t=NN&quot; onclick=&quot;return goOtherCR(this, &#39;a=nws*i.tit&amp;amp;r=24&amp;amp;i=88000149_000000000000000000905101&amp;amp;g=215.0000905101&amp;amp;u=&#39;+urlencode(this.href));&quot; target=&quot;_blank&quot; title=&quot;서울→부산 7시간…추석날 고속도로 교통상황 양방향 정체&quot;&gt;서울→부산 7시간…&lt;strong class=&quot;hl&quot;&gt;추석&lt;/strong&gt;날 고속도로 교통상황 양방향 정체&lt;/a&gt; &lt;span class=&quot;txt_sinfo&quot;&gt; &lt;span class=&quot;press&quot; title=&quot;한국경제TV&quot;&gt;한국경제TV&lt;i class=&quot;sprenew api_ico_pick&quot;&gt;언론사 선정&lt;/i&gt;&lt;/span&gt; &lt;span class=&quot;bar&quot;&gt;&lt;/span&gt; 20시간 전 &lt;span class=&quot;bar&quot;&gt;&lt;/span&gt;&lt;a class=&quot;_sp_each_url&quot; href=&quot;https://news.naver.com/main/read.nhn?mode=LSD&amp;amp;mid=sec&amp;amp;sid1=102&amp;amp;oid=215&amp;amp;aid=0000905101&quot; onclick=&quot;return goOtherCR(this, &#39;a=nws*i.nav&amp;amp;r=24&amp;amp;i=88000149_000000000000000000905101&amp;amp;u=&#39;+urlencode(this.href));&quot; target=&quot;_blank&quot;&gt;네이버뉴스&lt;/a&gt; &lt;/span&gt; &lt;/li&gt; &lt;li&gt; &lt;span class=&quot;ico_bu&quot;&gt;&lt;/span&gt; &lt;a href=&quot;http://news.kbs.co.kr/news/view.do?ncd=5016466&amp;amp;ref=A&quot; onclick=&quot;return goOtherCR(this, &#39;a=nws*i.tit&amp;amp;r=25&amp;amp;i=88000114_000000000000000010909665&amp;amp;g=056.0010909665&amp;amp;u=&#39;+urlencode(this.href));&quot; target=&quot;_blank&quot; title=&quot;추석날 고속도로 정체 극심…“오후 10시쯤 해소 전망”&quot;&gt;&lt;strong class=&quot;hl&quot;&gt;추석&lt;/strong&gt;날 고속도로 정체 극심…“오후 10시쯤 해소 전망”&lt;/a&gt; &lt;span class=&quot;txt_sinfo&quot;&gt; &lt;span class=&quot;press&quot; title=&quot;KBS&quot;&gt;KBS&lt;i class=&quot;sprenew api_ico_pick&quot;&gt;언론사 선정&lt;/i&gt;&lt;/span&gt; &lt;span class=&quot;bar&quot;&gt;&lt;/span&gt; 19시간 전 &lt;span class=&quot;bar&quot;&gt;&lt;/span&gt;&lt;a class=&quot;_sp_each_url&quot; href=&quot;https://news.naver.com/main/read.nhn?mode=LSD&amp;amp;mid=sec&amp;amp;sid1=102&amp;amp;oid=056&amp;amp;aid=0010909665&quot; onclick=&quot;return goOtherCR(this, &#39;a=nws*i.nav&amp;amp;r=25&amp;amp;i=88000114_000000000000000010909665&amp;amp;u=&#39;+urlencode(this.href));&quot; target=&quot;_blank&quot;&gt;네이버뉴스&lt;/a&gt; &lt;/span&gt; &lt;/li&gt; &lt;li&gt; &lt;span class=&quot;ico_bu&quot;&gt;&lt;/span&gt; &lt;a href=&quot;http://www.segye.com/content/html/2020/10/01/20201001509824.html?OutUrl=naver&quot; onclick=&quot;return goOtherCR(this, &#39;a=nws*i.tit&amp;amp;r=26&amp;amp;i=880000D2_000000000000000003508630&amp;amp;g=022.0003508630&amp;amp;u=&#39;+urlencode(this.href));&quot; target=&quot;_blank&quot; title=&quot;추석 당일 차량 정체 가장 심할 듯… 서울→부산 6시간40분&quot;&gt;&lt;strong class=&quot;hl&quot;&gt;추석&lt;/strong&gt; 당일 차량 정체 가장 심할 듯… 서울→부산 6시간40분&lt;/a&gt; &lt;span class=&quot;txt_sinfo&quot;&gt; &lt;span class=&quot;press&quot; title=&quot;세계일보&quot;&gt;세계일보&lt;i class=&quot;sprenew api_ico_pick&quot;&gt;언론사 선정&lt;/i&gt;&lt;/span&gt; &lt;span class=&quot;bar&quot;&gt;&lt;/span&gt; 19시간 전 &lt;span class=&quot;bar&quot;&gt;&lt;/span&gt;&lt;a class=&quot;_sp_each_url&quot; href=&quot;https://news.naver.com/main/read.nhn?mode=LSD&amp;amp;mid=sec&amp;amp;sid1=102&amp;amp;oid=022&amp;amp;aid=0003508630&quot; onclick=&quot;return goOtherCR(this, &#39;a=nws*i.nav&amp;amp;r=26&amp;amp;i=880000D2_000000000000000003508630&amp;amp;u=&#39;+urlencode(this.href));&quot; target=&quot;_blank&quot;&gt;네이버뉴스&lt;/a&gt; &lt;/span&gt; &lt;/li&gt; &lt;/ul&gt; &lt;div class=&quot;newr_more&quot;&gt; &lt;a class=&quot;more_news&quot; href=&quot;#&quot; onclick=&quot;news_submit_related_option(&#39;0560010909649&#39;, 0, &#39;nws*r.more&#39;); return false;&quot;&gt;관련뉴스 5건 전체보기&lt;/a&gt; &lt;/div&gt; &lt;/dd&gt; &lt;/dl&gt; &lt;/li&gt;, &lt;li id=&quot;sp_nws27&quot;&gt; &lt;div class=&quot;thumb&quot;&gt;&lt;a class=&quot;sp_thmb thmb80&quot; href=&quot;https://news.joins.com/article/olink/23479326&quot; onclick=&quot;return goOtherCR(this, &#39;a=nws*h.img&amp;amp;r=27&amp;amp;i=880000F2_000000000000000003039996&amp;amp;g=025.0003039996&amp;amp;u=&#39;+urlencode(this.href));&quot; target=&quot;_blank&quot;&gt;&lt;img alt=&quot;엄마는 거리, 아들은 &quot; class=&quot;&quot; height=&quot;80&quot; onerror=&quot;this.parentNode.style.display=&#39;none&#39;;&quot; src=&quot;https://search.pstatic.net/common/?src=https%3A%2F%2Fimgnews.pstatic.net%2Fimage%2Forigin%2F025%2F2020%2F10%2F01%2F3039996.jpg&amp;amp;type=ofullfill80_80_q75_re2&quot; width=&quot;80&quot;/&gt;&lt;span class=&quot;thmb_v&quot;&gt;&lt;/span&gt;&lt;/a&gt;&lt;/div&gt; &lt;dl&gt; &lt;dt&gt;&lt;a class=&quot;_sp_each_title&quot; href=&quot;https://news.joins.com/article/olink/23479326&quot; onclick=&quot;return goOtherCR(this, &#39;a=nws*h.tit&amp;amp;r=27&amp;amp;i=880000F2_000000000000000003039996&amp;amp;g=025.0003039996&amp;amp;u=&#39;+urlencode(this.href));&quot; target=&quot;_blank&quot; title=&quot;엄마는 거리, 아들은 집에서 숨진채 발견…추석날 무슨 일이&quot;&gt;엄마는 거리, 아들은 집에서 숨진채 발견…&lt;strong class=&quot;hl&quot;&gt;추석&lt;/strong&gt;날 무슨 일이&lt;/a&gt;&lt;/dt&gt; &lt;dd class=&quot;txt_inline&quot;&gt;&lt;span class=&quot;_sp_each_source&quot;&gt;중앙일보&lt;i class=&quot;sprenew api_ico_pick&quot;&gt;언론사 선정&lt;/i&gt;&lt;/span&gt; &lt;span class=&quot;bar&quot;&gt;&lt;/span&gt; 17시간 전 &lt;span class=&quot;bar&quot;&gt;&lt;/span&gt; &lt;a class=&quot;_sp_each_url&quot; href=&quot;https://news.naver.com/main/read.nhn?mode=LSD&amp;amp;mid=sec&amp;amp;sid1=102&amp;amp;oid=025&amp;amp;aid=0003039996&quot; onclick=&quot;return goOtherCR(this, &#39;a=nws*h.nav&amp;amp;r=27&amp;amp;i=880000F2_000000000000000003039996&amp;amp;u=&#39;+urlencode(this.href));&quot; target=&quot;_blank&quot;&gt;네이버뉴스&lt;/a&gt; &lt;div class=&quot;scial&quot; id=&quot;sp_nws27_base&quot;&gt; &lt;span class=&quot;bar&quot;&gt;&lt;/span&gt; &lt;a class=&quot;bt_scial2 naver-splugin&quot; data-oninitialize=&quot;splugin_oninitialize(&#39;sp_nws27&#39;);&quot; data-style=&quot;unity-v2&quot; href=&quot;#&quot; onclick=&quot;goOtherTCR(this, &#39;a=nws*h.pplugin&amp;amp;r=27&amp;amp;i=880000F2_000000000000000003039996&amp;amp;u=&#39;+urlencode(this.href)); return false;&quot;&gt;보내기&lt;/a&gt; &lt;/div&gt; &lt;/dd&gt; &lt;dd&gt;60대 어머니와 40대 아들이 &lt;strong class=&quot;hl&quot;&gt;추석&lt;/strong&gt; 당일인 1일 경기도 남양주시에서 피를 흘리며 사망하는 사건이 발생해 경찰이 수사에 나섰다. 남양주경찰서에 따르면 이날 오전 11시 5분께 남양주시의 한 노상에서 60대 여성이 피를...&lt;/dd&gt; &lt;dd&gt; &lt;ul class=&quot;relation_lst&quot;&gt; &lt;li&gt; &lt;span class=&quot;ico_bu&quot;&gt;&lt;/span&gt; &lt;a href=&quot;http://yna.kr/AKR20201001029500060?did=1195m&quot; onclick=&quot;return goOtherCR(this, &#39;a=nws*i.tit&amp;amp;r=28&amp;amp;i=880000D8_000000000000000011916959&amp;amp;g=001.0011916959&amp;amp;u=&#39;+urlencode(this.href));&quot; target=&quot;_blank&quot; title=&quot;추석날 40대 아들과 모친 피 흘리며 숨져…집에서 흉기 발견&quot;&gt;&lt;strong class=&quot;hl&quot;&gt;추석&lt;/strong&gt;날 40대 아들과 모친 피 흘리며 숨져…집에서 흉기 발견&lt;/a&gt; &lt;span class=&quot;txt_sinfo&quot;&gt; &lt;span class=&quot;press&quot; title=&quot;연합뉴스&quot;&gt;연합뉴스&lt;i class=&quot;sprenew api_ico_pick&quot;&gt;언론사 선정&lt;/i&gt;&lt;/span&gt; &lt;span class=&quot;bar&quot;&gt;&lt;/span&gt; 18시간 전 &lt;span class=&quot;bar&quot;&gt;&lt;/span&gt;&lt;a class=&quot;_sp_each_url&quot; href=&quot;https://news.naver.com/main/read.nhn?mode=LSD&amp;amp;mid=sec&amp;amp;sid1=102&amp;amp;oid=001&amp;amp;aid=0011916959&quot; onclick=&quot;return goOtherCR(this, &#39;a=nws*i.nav&amp;amp;r=28&amp;amp;i=880000D8_000000000000000011916959&amp;amp;u=&#39;+urlencode(this.href));&quot; target=&quot;_blank&quot;&gt;네이버뉴스&lt;/a&gt; &lt;/span&gt; &lt;/li&gt; &lt;li&gt; &lt;span class=&quot;ico_bu&quot;&gt;&lt;/span&gt; &lt;a href=&quot;http://news.kmib.co.kr/article/view.asp?arcid=0015066803&amp;amp;code=61121111&amp;amp;cp=nv&quot; onclick=&quot;return goOtherCR(this, &#39;a=nws*i.tit&amp;amp;r=29&amp;amp;i=8800006F_000000000000000001367200&amp;amp;g=005.0001367200&amp;amp;u=&#39;+urlencode(this.href));&quot; target=&quot;_blank&quot; title=&quot;모자의 비극, 추석날 흉기에 찔려 숨진 아들과 어머니&quot;&gt;모자의 비극, &lt;strong class=&quot;hl&quot;&gt;추석&lt;/strong&gt;날 흉기에 찔려 숨진 아들과 어머니&lt;/a&gt; &lt;span class=&quot;txt_sinfo&quot;&gt; &lt;span class=&quot;press&quot; title=&quot;국민일보&quot;&gt;국민일보&lt;i class=&quot;sprenew api_ico_pick&quot;&gt;언론사 선정&lt;/i&gt;&lt;/span&gt; &lt;span class=&quot;bar&quot;&gt;&lt;/span&gt; 18시간 전 &lt;span class=&quot;bar&quot;&gt;&lt;/span&gt;&lt;a class=&quot;_sp_each_url&quot; href=&quot;https://news.naver.com/main/read.nhn?mode=LSD&amp;amp;mid=sec&amp;amp;sid1=102&amp;amp;oid=005&amp;amp;aid=0001367200&quot; onclick=&quot;return goOtherCR(this, &#39;a=nws*i.nav&amp;amp;r=29&amp;amp;i=8800006F_000000000000000001367200&amp;amp;u=&#39;+urlencode(this.href));&quot; target=&quot;_blank&quot;&gt;네이버뉴스&lt;/a&gt; &lt;/span&gt; &lt;/li&gt; &lt;li&gt; &lt;span class=&quot;ico_bu&quot;&gt;&lt;/span&gt; &lt;a href=&quot;http://www.wowtv.co.kr/NewsCenter/News/Read?articleId=A202010010064&amp;amp;t=NN&quot; onclick=&quot;return goOtherCR(this, &#39;a=nws*i.tit&amp;amp;r=30&amp;amp;i=88000149_000000000000000000905113&amp;amp;g=215.0000905113&amp;amp;u=&#39;+urlencode(this.href));&quot; target=&quot;_blank&quot; title=&quot;추석 남양주서 40대 아들·모친 사망…집에서 흉기 발견&quot;&gt;&lt;strong class=&quot;hl&quot;&gt;추석&lt;/strong&gt; 남양주서 40대 아들·모친 사망…집에서 흉기 발견&lt;/a&gt; &lt;span class=&quot;txt_sinfo&quot;&gt; &lt;span class=&quot;press&quot; title=&quot;한국경제TV&quot;&gt;한국경제TV&lt;i class=&quot;sprenew api_ico_pick&quot;&gt;언론사 선정&lt;/i&gt;&lt;/span&gt; &lt;span class=&quot;bar&quot;&gt;&lt;/span&gt; 18시간 전 &lt;span class=&quot;bar&quot;&gt;&lt;/span&gt;&lt;a class=&quot;_sp_each_url&quot; href=&quot;https://news.naver.com/main/read.nhn?mode=LSD&amp;amp;mid=sec&amp;amp;sid1=102&amp;amp;oid=215&amp;amp;aid=0000905113&quot; onclick=&quot;return goOtherCR(this, &#39;a=nws*i.nav&amp;amp;r=30&amp;amp;i=88000149_000000000000000000905113&amp;amp;u=&#39;+urlencode(this.href));&quot; target=&quot;_blank&quot;&gt;네이버뉴스&lt;/a&gt; &lt;/span&gt; &lt;/li&gt; &lt;li&gt; &lt;span class=&quot;ico_bu&quot;&gt;&lt;/span&gt; &lt;a href=&quot;http://news.tf.co.kr/read/national/1816146.htm&quot; onclick=&quot;return goOtherCR(this, &#39;a=nws*i.tit&amp;amp;r=31&amp;amp;i=881999s8_000000000000000000044945&amp;amp;g=629.0000044945&amp;amp;u=&#39;+urlencode(this.href));&quot; target=&quot;_blank&quot; title=&quot;추석날 60대 어머니·40대 아들 피 흘린 채 숨져…경찰 수사&quot;&gt;&lt;strong class=&quot;hl&quot;&gt;추석&lt;/strong&gt;날 60대 어머니·40대 아들 피 흘린 채 숨져…경찰 수사&lt;/a&gt; &lt;span class=&quot;txt_sinfo&quot;&gt; &lt;span class=&quot;press&quot; title=&quot;더팩트&quot;&gt;더팩트&lt;i class=&quot;sprenew api_ico_pick&quot;&gt;언론사 선정&lt;/i&gt;&lt;/span&gt; &lt;span class=&quot;bar&quot;&gt;&lt;/span&gt; 14시간 전 &lt;span class=&quot;bar&quot;&gt;&lt;/span&gt;&lt;a class=&quot;_sp_each_url&quot; href=&quot;https://news.naver.com/main/read.nhn?mode=LSD&amp;amp;mid=sec&amp;amp;sid1=102&amp;amp;oid=629&amp;amp;aid=0000044945&quot; onclick=&quot;return goOtherCR(this, &#39;a=nws*i.nav&amp;amp;r=31&amp;amp;i=881999s8_000000000000000000044945&amp;amp;u=&#39;+urlencode(this.href));&quot; target=&quot;_blank&quot;&gt;네이버뉴스&lt;/a&gt; &lt;/span&gt; &lt;/li&gt; &lt;/ul&gt; &lt;div class=&quot;newr_more&quot;&gt; &lt;a class=&quot;more_news&quot; href=&quot;#&quot; onclick=&quot;news_submit_related_option(&#39;0250003039996&#39;, 0, &#39;nws*r.more&#39;); return false;&quot;&gt;관련뉴스 7건 전체보기&lt;/a&gt; &lt;/div&gt; &lt;/dd&gt; &lt;/dl&gt; &lt;/li&gt;]\n"
    }
   ],
   "source": [
    "driver = webdriver.Chrome('tool/chromedriver')\n",
    "\n",
    "url = \"https://search.naver.com/search.naver?where=news&sm=tab_jum&query=추석\"\n",
    "\n",
    "driver.get(url)\n",
    "req = driver.page_source\n",
    "soup = BeautifulSoup(req, 'html.parser')\n",
    "\n",
    "articles = soup.select('#main_pack > div.news.mynews.section._prs_nws > ul > li')\n",
    "print(articles)\n",
    "\n",
    "driver.quit()"
   ]
  },
  {
   "cell_type": "code",
   "execution_count": 11,
   "metadata": {
    "tags": []
   },
   "outputs": [
    {
     "output_type": "stream",
     "name": "stdout",
     "text": "[속보] 어제 확진자 63명, 추석 연휴 이틀간 두 자리수\n코로나19 신규확진 100명 안팎 등락 지속…추석 이후가 &#39;걱정&#39;\n[속보] 코로나 신규 확진자 63명…추석 연휴 이후가 변곡점\n추석 다음날 아침 고속도로 양방향 원활…부산→서울 5시간10분\n구름 사이 &#39;휘영청&#39; 추석 보름달, 가장 높게 뜨는 시각은?\n이낙연 대표, 추석 맞아 고 노무현 대통령 묘소 참배\n추미애·조국, 추석날 주거니받거니 “일부 정치검찰 정권과 결탁”\n&#39;추석 특수&#39; 누린 한우·삼겹살…소비자가격 고공행진\n추석날 고속도로 오후 1~2시 정체 극심…“오후 10시쯤 해소 전망”\n엄마는 거리, 아들은 집에서 숨진채 발견…추석날 무슨 일이\n"
    }
   ],
   "source": [
    "driver = webdriver.Chrome('tool/chromedriver')\n",
    "\n",
    "url = \"https://search.naver.com/search.naver?where=news&sm=tab_jum&query=추석\"\n",
    "\n",
    "driver.get(url)\n",
    "req = driver.page_source\n",
    "soup = BeautifulSoup(req, 'html.parser')\n",
    "\n",
    "articles = soup.select('#main_pack > div.news.mynews.section._prs_nws > ul > li')\n",
    "\n",
    "for article in articles :\n",
    "    title = article.select_one('dl > dt > a').text\n",
    "    print(title)\n",
    "\n",
    "driver.quit()"
   ]
  },
  {
   "cell_type": "code",
   "execution_count": 12,
   "metadata": {
    "tags": []
   },
   "outputs": [
    {
     "output_type": "stream",
     "name": "stdout",
     "text": "[속보] 코로나 신규 확진자 63명…추석 연휴 이후가 변곡점 http://www.hani.co.kr/arti/society/health/964213.html\n코로나19 신규확진 100명 안팎 등락 지속…추석 이후가 &#39;걱정&#39; http://yna.kr/AKR20201001033300530?did=1195m\n[속보] 어제 확진자 63명, 추석 연휴 이틀간 두 자리수 https://www.chosun.com/national/welfare-medical/2020/10/02/KXSI6QYPGJFEPJK27WSFJE3XWA/?utm_source=naver&amp;utm_medium=original&amp;utm_campaign=news\n추석 귀경길 고속도로 원활…‘부산→서울 5시간10분’ http://www.edaily.co.kr/news/newspath.asp?newsid=01305446625928984\n구름 사이 &#39;휘영청&#39; 추석 보름달, 가장 높게 뜨는 시각은? https://biz.chosun.com/site/data/html_dir/2020/10/01/2020100100136.html?utm_source=naver&amp;utm_medium=original&amp;utm_campaign=biz\n이낙연 대표, 추석 맞아 고 노무현 대통령 묘소 참배 https://imnews.imbc.com/news/2020/politics/article/5927450_32626.html\n추미애·조국, 추석날 주거니받거니 “일부 정치검찰 정권과 결탁” https://www.chosun.com/national/national_general/2020/10/01/7BNGFKXKWZELRL2OONEPG2TKCU/?utm_source=naver&amp;utm_medium=original&amp;utm_campaign=news\n&#39;추석 특수&#39; 누린 한우·삼겹살…소비자가격 고공행진 https://imnews.imbc.com/news/2020/econo/article/5927149_32647.html\n추석날 고속도로 오후 1~2시 정체 극심…“오후 10시쯤 해소 전망” http://news.kbs.co.kr/news/view.do?ncd=5016431&amp;ref=A\n엄마는 거리, 아들은 집에서 숨진채 발견…추석날 무슨 일이 https://news.joins.com/article/olink/23479326\n"
    }
   ],
   "source": [
    "driver = webdriver.Chrome('tool/chromedriver')\n",
    "\n",
    "url = \"https://search.naver.com/search.naver?where=news&sm=tab_jum&query=추석\"\n",
    "\n",
    "driver.get(url)\n",
    "req = driver.page_source\n",
    "soup = BeautifulSoup(req, 'html.parser')\n",
    "\n",
    "articles = soup.select('#main_pack > div.news.mynews.section._prs_nws > ul > li')\n",
    "\n",
    "for article in articles :\n",
    "    title = article.select_one('dl > dt > a').text\n",
    "    url = article.select_one('dl > dt > a')['href']\n",
    "    print(title, url)\n",
    "\n",
    "driver.quit()"
   ]
  },
  {
   "cell_type": "code",
   "execution_count": 15,
   "metadata": {
    "tags": []
   },
   "outputs": [
    {
     "output_type": "stream",
     "name": "stdout",
     "text": "[속보] 코로나 신규 확진자 63명…추석 연휴 이후가 변곡점 http://www.hani.co.kr/arti/society/health/964213.html 한겨레\n코로나19 신규확진 100명 안팎 등락 지속…추석 이후가 &#39;걱정&#39; http://yna.kr/AKR20201001033300530?did=1195m 연합뉴스\n[속보] 어제 확진자 63명, 추석 연휴 이틀간 두 자리수 https://www.chosun.com/national/welfare-medical/2020/10/02/KXSI6QYPGJFEPJK27WSFJE3XWA/?utm_source=naver&amp;utm_medium=original&amp;utm_campaign=news 조선일보\n추석 귀경길 고속도로 원활…‘부산→서울 5시간10분’ http://www.edaily.co.kr/news/newspath.asp?newsid=01305446625928984 이데일리\n구름 사이 &#39;휘영청&#39; 추석 보름달, 가장 높게 뜨는 시각은? https://biz.chosun.com/site/data/html_dir/2020/10/01/2020100100136.html?utm_source=naver&amp;utm_medium=original&amp;utm_campaign=biz 조선비즈\n이낙연 대표, 추석 맞아 고 노무현 대통령 묘소 참배 https://imnews.imbc.com/news/2020/politics/article/5927450_32626.html MBC\n추미애·조국, 추석날 주거니받거니 “일부 정치검찰 정권과 결탁” https://www.chosun.com/national/national_general/2020/10/01/7BNGFKXKWZELRL2OONEPG2TKCU/?utm_source=naver&amp;utm_medium=original&amp;utm_campaign=news 조선일보\n&#39;추석 특수&#39; 누린 한우·삼겹살…소비자가격 고공행진 https://imnews.imbc.com/news/2020/econo/article/5927149_32647.html MBC\n추석날 고속도로 오후 1~2시 정체 극심…“오후 10시쯤 해소 전망” http://news.kbs.co.kr/news/view.do?ncd=5016431&amp;ref=A KBS\n엄마는 거리, 아들은 집에서 숨진채 발견…추석날 무슨 일이 https://news.joins.com/article/olink/23479326 중앙일보\n"
    }
   ],
   "source": [
    "driver = webdriver.Chrome('tool/chromedriver')\n",
    "\n",
    "url = \"https://search.naver.com/search.naver?where=news&sm=tab_jum&query=추석\"\n",
    "\n",
    "driver.get(url)\n",
    "req = driver.page_source\n",
    "soup = BeautifulSoup(req, 'html.parser')\n",
    "\n",
    "articles = soup.select('#main_pack > div.news.mynews.section._prs_nws > ul > li')\n",
    "\n",
    "for article in articles :\n",
    "    title = article.select_one('dl > dt > a').text\n",
    "    url = article.select_one('dl > dt > a')['href']\n",
    "    comp = article.select_one('span._sp_each_source').text.split(' ')[0].replace('언론사', '')\n",
    "    print(title, url, comp)\n",
    "\n",
    "driver.quit()"
   ]
  },
  {
   "source": [
    "# 엑셀 파일로 저장하기"
   ],
   "cell_type": "markdown",
   "metadata": {}
  },
  {
   "cell_type": "code",
   "execution_count": 17,
   "metadata": {},
   "outputs": [],
   "source": [
    "from openpyxl import Workbook\n",
    "\n",
    "wb = Workbook()\n",
    "ws1 = wb.active\n",
    "ws1.title = \"articles\"\n",
    "ws1.append([\"제목\", \"링크\", \"신문사\"])\n",
    "\n",
    "wb.save(filename='articles.xlsx')"
   ]
  },
  {
   "source": [
    "![title](cap/pic1.png)"
   ],
   "cell_type": "markdown",
   "metadata": {}
  },
  {
   "cell_type": "code",
   "execution_count": 19,
   "metadata": {},
   "outputs": [],
   "source": [
    "driver = webdriver.Chrome('tool/chromedriver')\n",
    "\n",
    "url = \"https://search.naver.com/search.naver?where=news&sm=tab_jum&query=추석\"\n",
    "\n",
    "driver.get(url)\n",
    "req = driver.page_source\n",
    "soup = BeautifulSoup(req, 'html.parser')\n",
    "\n",
    "wb = Workbook()\n",
    "ws1 = wb.active\n",
    "ws1.title = \"articles\"\n",
    "ws1.append([\"제목\", \"링크\", \"신문사\"])\n",
    "\n",
    "articles = soup.select('#main_pack > div.news.mynews.section._prs_nws > ul > li')\n",
    "\n",
    "for article in articles:\n",
    "    a_tag = article.select_one('dl > dt > a')\n",
    "\n",
    "    title = a_tag.text\n",
    "    url = a_tag['href']\n",
    "    comp = article.select_one('dd.txt_inline > span._sp_each_source').text.split(' ')[0].replace('언론사','')\n",
    "    ws1.append([title, url, comp])\n",
    "\n",
    "driver.quit()\n",
    "wb.save(filename='articles.xlsx')"
   ]
  },
  {
   "source": [
    "![title](cap/pic2.png)"
   ],
   "cell_type": "markdown",
   "metadata": {}
  },
  {
   "source": [
    "# 이메일 보내기"
   ],
   "cell_type": "markdown",
   "metadata": {}
  },
  {
   "cell_type": "code",
   "execution_count": 32,
   "metadata": {},
   "outputs": [
    {
     "output_type": "execute_result",
     "data": {
      "text/plain": "(221, b&#39;2.0.0 closing connection y3sm8285098pfb.18 - gsmtp&#39;)"
     },
     "metadata": {},
     "execution_count": 32
    }
   ],
   "source": [
    "import smtplib\n",
    "from email.mime.multipart import MIMEMultipart\n",
    "from email.mime.base import MIMEBase\n",
    "from email.mime.text import MIMEText\n",
    "from email import encoders\n",
    "\n",
    "\n",
    "# 보내는 사람 정보\n",
    "me = \"내 메일주소\"\n",
    "my_password = \"비밀번호\"\n",
    "\n",
    "# 로그인하기\n",
    "s = smtplib.SMTP_SSL('smtp.gmail.com')\n",
    "s.login(me, my_password)\n",
    "\n",
    "# 받는 사람 정보\n",
    "you = \"받는 사람 메일주소\"\n",
    "\n",
    "# 메일 기본 정보 설정\n",
    "msg = MIMEMultipart('alternative')\n",
    "msg['Subject'] = \"제목\"\n",
    "msg['From'] = me\n",
    "msg['To'] = you\n",
    "\n",
    "# 메일 내용 쓰기\n",
    "content = \"메일 내용\"\n",
    "part2 = MIMEText(content, 'plain')\n",
    "msg.attach(part2)\n",
    "\n",
    "# 메일 보내고 서버 끄기\n",
    "s.sendmail(me, you, msg.as_string())\n",
    "s.quit()"
   ]
  },
  {
   "source": [
    "- 에러 발생\n",
    "1. 이메일 주소 / 비밀번호가 틀린 경우\n",
    "    - smtplib.SMTPAuthenticationError: (535, b'5.7.8 Username and Password not accepted. Learn more at\\n5.7.8  https://support.google.com/mail/?p=BadCredentials h9sm3842285pfc.28 - gsmtp')\n",
    "\n",
    "2. 2-Step-Verification이 켜져있는 경우\n",
    "    - smtplib.SMTPAuthenticationError: (534, b'5.7.9 Application-specific password required. Learn more at\\n5.7.9  https://support.google.com/mail/?p=InvalidSecondFactor n7sm4135021pfq.114 - gsmtp')\n",
    "    - 2단계 인증 해제 : https://myaccount.google.com/signinoptions/two-step-verification\n",
    "\n",
    "3. '보안 수준이 낮은 앱의 액세스'가 사용 중지된 경우\n",
    "    - smtplib.SMTPAuthenticationError: (535, b'5.7.8 Username and Password not accepted. Learn more at\\n5.7.8  https://support.google.com/mail/?p=BadCredentials r3sm4185855pfh.88 - gsmtp')\n",
    "    - 이메일 주소 / 비밀번호를 틀렸을 때와 같은 에러 메시지가 나오는데, 링크를 따라가보시면 다른 이메일 플랫폼을 통해 Gmail에 로그인할 수 없을 때의 해결법이 나옵니다. 여기서 '보안 수준이 낮은 앱이 계정에 액세스하도록 허용'을 따라가서 풀어주시면 됩니다.\n",
    "    - https://myaccount.google.com/lesssecureapps\n",
    "\n",
    "4. 받는 사람 이메일 주소를 틀린 경우\n",
    "    - 에러는 나지 않지만 이메일이 오지 않아요"
   ],
   "cell_type": "markdown",
   "metadata": {}
  },
  {
   "source": [
    "![title](cap/pic3.png)"
   ],
   "cell_type": "markdown",
   "metadata": {}
  },
  {
   "cell_type": "code",
   "execution_count": 34,
   "metadata": {},
   "outputs": [
    {
     "output_type": "execute_result",
     "data": {
      "text/plain": "(221, b&#39;2.0.0 closing connection y1sm6868943pgy.0 - gsmtp&#39;)"
     },
     "metadata": {},
     "execution_count": 34
    }
   ],
   "source": [
    "# 보내는 사람 정보\n",
    "me = \"내 주소\"\n",
    "my_password = \"비밀번호\"\n",
    "\n",
    "# 로그인하기\n",
    "s = smtplib.SMTP_SSL('smtp.gmail.com')\n",
    "s.login(me, my_password)\n",
    "\n",
    "# 받는 사람 정보\n",
    "email_list = [\"받는 사람 1\", \"받는 사람 2\"]\n",
    "\n",
    "for you in email_list:\n",
    "    # 메일 기본 정보 설정\n",
    "    msg = MIMEMultipart('alternative')\n",
    "    msg['Subject'] = \"메일 제목\"\n",
    "    msg['From'] = me\n",
    "    msg['To'] = you\n",
    "    \n",
    "    # 메일 내용 쓰기\n",
    "    content = \"내용\"\n",
    "    part2 = MIMEText(content, 'plain')\n",
    "    msg.attach(part2)\n",
    "    \n",
    "    # 메일 보내기\n",
    "    s.sendmail(me, you, msg.as_string())\n",
    "\n",
    "# 다 끝나고 닫기\n",
    "s.quit()"
   ]
  },
  {
   "source": [
    "![title](cap/pic4.png)"
   ],
   "cell_type": "markdown",
   "metadata": {}
  },
  {
   "cell_type": "code",
   "execution_count": 42,
   "metadata": {},
   "outputs": [
    {
     "output_type": "execute_result",
     "data": {
      "text/plain": "(221, b&#39;2.0.0 closing connection e19sm8318764pfl.135 - gsmtp&#39;)"
     },
     "metadata": {},
     "execution_count": 42
    }
   ],
   "source": [
    "# 보내는 사람 정보\n",
    "me = \"내 주소\"\n",
    "my_password = \"비밀번호\"\n",
    "\n",
    "# 로그인하기\n",
    "s = smtplib.SMTP_SSL('smtp.gmail.com')\n",
    "s.login(me, my_password)\n",
    "\n",
    "# 받는 사람 정보\n",
    "email_list = [\"주소1\", \"주소2\"]\n",
    "\n",
    "for you in email_list:\n",
    "    # 메일 기본 정보 설정\n",
    "    msg = MIMEMultipart('alternative')\n",
    "    msg['Subject'] = \"여러 사람에게 파일 전송하기\"\n",
    "    msg['From'] = me\n",
    "    msg['To'] = you\n",
    "    \n",
    "    # 메일 내용 쓰기\n",
    "    content = \"메일 내용\"\n",
    "    part2 = MIMEText(content, 'plain')\n",
    "    msg.attach(part2)\n",
    "\n",
    "    # articles.xlsx는 실제 파일 이름, filname=\"파일 이름 변경해도 괜찮음\"\n",
    "    part = MIMEBase('application', \"octet-stream\")\n",
    "    with open(\"articles.xlsx\", 'rb') as file:\n",
    "        part.set_payload(file.read())\n",
    "    encoders.encode_base64(part)\n",
    "    part.add_header('Content-Disposition', \"attachment\", filename=\"추석기사.xlsx\")\n",
    "    msg.attach(part)\n",
    "\n",
    "    # 메일 보내기\n",
    "    s.sendmail(me, you, msg.as_string())\n",
    "\n",
    "# 다 끝나고 닫기\n",
    "s.quit()"
   ]
  },
  {
   "source": [
    "![title](cap/pic5.png)\n",
    "![title](cap/pic6.png)"
   ],
   "cell_type": "markdown",
   "metadata": {
    "tags": []
   }
  }
 ]
}