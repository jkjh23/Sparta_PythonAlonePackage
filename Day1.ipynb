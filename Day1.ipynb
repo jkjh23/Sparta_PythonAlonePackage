{
 "metadata": {
  "language_info": {
   "codemirror_mode": {
    "name": "ipython",
    "version": 3
   },
   "file_extension": ".py",
   "mimetype": "text/x-python",
   "name": "python",
   "nbconvert_exporter": "python",
   "pygments_lexer": "ipython3",
   "version": "3.7.6-final"
  },
  "orig_nbformat": 2,
  "kernelspec": {
   "name": "python_defaultSpec_1601539132046",
   "display_name": "Python 3.7.6 64-bit ('base': conda)",
   "metadata": {
    "interpreter": {
     "hash": "9387e9e37a0af8fff0fcbade4737076ebc87d0c8fec44545ee3d2fd05cdc73df"
    }
   }
  }
 },
 "nbformat": 4,
 "nbformat_minor": 2,
 "cells": [
  {
   "source": [
    "# 파이썬 기초 공부"
   ],
   "cell_type": "markdown",
   "metadata": {}
  },
  {
   "source": [
    "## 변수 & 기본연산"
   ],
   "cell_type": "markdown",
   "metadata": {}
  },
  {
   "cell_type": "code",
   "execution_count": 4,
   "metadata": {
    "tags": []
   },
   "outputs": [
    {
     "output_type": "stream",
     "name": "stdout",
     "text": "5\n"
    }
   ],
   "source": [
    "a = 2\n",
    "b = 3\n",
    "print(a+b)"
   ]
  },
  {
   "cell_type": "code",
   "execution_count": 5,
   "metadata": {
    "tags": []
   },
   "outputs": [
    {
     "output_type": "stream",
     "name": "stdout",
     "text": "EunkyungOh\n"
    }
   ],
   "source": [
    "first_name = \"Eunkyung\"\n",
    "last_name = \"Oh\"\n",
    "print(first_name + last_name)"
   ]
  },
  {
   "cell_type": "code",
   "execution_count": 6,
   "metadata": {},
   "outputs": [
    {
     "output_type": "error",
     "ename": "TypeError",
     "evalue": "unsupported operand type(s) for +: &#39;int&#39; and &#39;str&#39;",
     "traceback": [
      "\u001b[1;31m---------------------------------------------------------------------------\u001b[0m",
      "\u001b[1;31mTypeError\u001b[0m                                 Traceback (most recent call last)",
      "\u001b[1;32m&lt;ipython-input-6-c0938b7da00e&gt;\u001b[0m in \u001b[0;36m&lt;module&gt;\u001b[1;34m\u001b[0m\n\u001b[0;32m      1\u001b[0m \u001b[1;31m# 숫자와 문자는 덧셈할 수 없음\u001b[0m\u001b[1;33m\u001b[0m\u001b[1;33m\u001b[0m\u001b[1;33m\u001b[0m\u001b[0m\n\u001b[1;32m----&gt; 2\u001b[1;33m \u001b[0ma\u001b[0m \u001b[1;33m+\u001b[0m \u001b[0mfirst_name\u001b[0m\u001b[1;33m\u001b[0m\u001b[1;33m\u001b[0m\u001b[0m\n\u001b[0m",
      "\u001b[1;31mTypeError\u001b[0m: unsupported operand type(s) for +: &#39;int&#39; and &#39;str&#39;"
     ]
    }
   ],
   "source": [
    "# 숫자와 문자는 덧셈할 수 없음\n",
    "a + first_name"
   ]
  },
  {
   "cell_type": "code",
   "execution_count": 7,
   "metadata": {},
   "outputs": [
    {
     "output_type": "execute_result",
     "data": {
      "text/plain": "&#39;2Eunkyung&#39;"
     },
     "metadata": {},
     "execution_count": 7
    }
   ],
   "source": [
    "a = '2'\n",
    "a + first_name"
   ]
  },
  {
   "source": [
    "## 자료형"
   ],
   "cell_type": "markdown",
   "metadata": {}
  },
  {
   "cell_type": "code",
   "execution_count": 8,
   "metadata": {
    "tags": []
   },
   "outputs": [
    {
     "output_type": "stream",
     "name": "stdout",
     "text": "사과 감\n"
    }
   ],
   "source": [
    "a_list = ['사과', '감', '배']\n",
    "print(a_list[0], a_list[1])"
   ]
  },
  {
   "cell_type": "code",
   "execution_count": 9,
   "metadata": {
    "tags": []
   },
   "outputs": [
    {
     "output_type": "stream",
     "name": "stdout",
     "text": "영희\n"
    }
   ],
   "source": [
    "b_list = ['영희', '철수']\n",
    "print(b_list[0])"
   ]
  },
  {
   "cell_type": "code",
   "execution_count": 10,
   "metadata": {
    "tags": []
   },
   "outputs": [
    {
     "output_type": "stream",
     "name": "stdout",
     "text": "사과\n"
    }
   ],
   "source": [
    "b_list = ['영희', '철수', ['사과', '감']]\n",
    "print(b_list[2][0])"
   ]
  },
  {
   "cell_type": "code",
   "execution_count": 11,
   "metadata": {
    "tags": []
   },
   "outputs": [
    {
     "output_type": "stream",
     "name": "stdout",
     "text": "[&#39;사과&#39;, &#39;감&#39;, &#39;배&#39;, &#39;수박&#39;]\n"
    }
   ],
   "source": [
    "a_list.append('수박')\n",
    "print(a_list)"
   ]
  },
  {
   "cell_type": "code",
   "execution_count": 12,
   "metadata": {},
   "outputs": [
    {
     "output_type": "execute_result",
     "data": {
      "text/plain": "{&#39;name&#39;: &#39;bob&#39;, &#39;age&#39;: 24}"
     },
     "metadata": {},
     "execution_count": 12
    }
   ],
   "source": [
    "a_dict = {'name' : 'bob', 'age' : 24}\n",
    "a_dict"
   ]
  },
  {
   "cell_type": "code",
   "execution_count": 13,
   "metadata": {},
   "outputs": [
    {
     "output_type": "execute_result",
     "data": {
      "text/plain": "{&#39;name&#39;: &#39;bob&#39;, &#39;age&#39;: 24, &#39;height&#39;: 178}"
     },
     "metadata": {},
     "execution_count": 13
    }
   ],
   "source": [
    "a_dict['height'] = 178\n",
    "a_dict"
   ]
  },
  {
   "cell_type": "code",
   "execution_count": 14,
   "metadata": {},
   "outputs": [
    {
     "output_type": "execute_result",
     "data": {
      "text/plain": "{&#39;name&#39;: &#39;bob&#39;, &#39;age&#39;: 24, &#39;height&#39;: 178, &#39;fruits&#39;: [&#39;수박&#39;, &#39;참외&#39;, &#39;배&#39;]}"
     },
     "metadata": {},
     "execution_count": 14
    }
   ],
   "source": [
    "a_list = ['수박', '참외', '배']\n",
    "a_dict['fruits'] = a_list\n",
    "a_dict"
   ]
  },
  {
   "cell_type": "code",
   "execution_count": 15,
   "metadata": {},
   "outputs": [
    {
     "output_type": "execute_result",
     "data": {
      "text/plain": "&#39;수박&#39;"
     },
     "metadata": {},
     "execution_count": 15
    }
   ],
   "source": [
    "a_dict['fruits'][0]"
   ]
  },
  {
   "source": [
    "## 조건문 & 반복문"
   ],
   "cell_type": "markdown",
   "metadata": {}
  },
  {
   "cell_type": "code",
   "execution_count": 16,
   "metadata": {
    "tags": []
   },
   "outputs": [
    {
     "output_type": "stream",
     "name": "stdout",
     "text": "성인입니다\n"
    }
   ],
   "source": [
    "age = 24\n",
    "\n",
    "if age > 20 :\n",
    "    print('성인입니다')\n",
    "else :\n",
    "    print('청소년입니다')"
   ]
  },
  {
   "cell_type": "code",
   "execution_count": 17,
   "metadata": {
    "tags": []
   },
   "outputs": [
    {
     "output_type": "stream",
     "name": "stdout",
     "text": "사과\n배\n배\n감\n수박\n귤\n딸기\n사과\n배\n수박\n"
    }
   ],
   "source": [
    "fruits = ['사과','배','배','감','수박','귤','딸기','사과','배','수박']\n",
    "\n",
    "for fruit in fruits :\n",
    "    print(fruit)"
   ]
  },
  {
   "cell_type": "code",
   "execution_count": 18,
   "metadata": {
    "tags": []
   },
   "outputs": [
    {
     "output_type": "stream",
     "name": "stdout",
     "text": "사과\n사과\n"
    }
   ],
   "source": [
    "for fruit in fruits :\n",
    "    if fruit == '사과' :\n",
    "        print(fruit)"
   ]
  },
  {
   "cell_type": "code",
   "execution_count": 19,
   "metadata": {
    "tags": []
   },
   "outputs": [
    {
     "output_type": "stream",
     "name": "stdout",
     "text": "2\n"
    }
   ],
   "source": [
    "count = 0\n",
    "for fruit in fruits :\n",
    "    if fruit == '사과' :\n",
    "        count += 1\n",
    "print(count)"
   ]
  },
  {
   "cell_type": "code",
   "execution_count": 20,
   "metadata": {
    "tags": []
   },
   "outputs": [
    {
     "output_type": "stream",
     "name": "stdout",
     "text": "3\n"
    }
   ],
   "source": [
    "count = 0\n",
    "for fruit in fruits :\n",
    "    if fruit == '배' :\n",
    "        count += 1\n",
    "print(count)"
   ]
  },
  {
   "cell_type": "code",
   "execution_count": 21,
   "metadata": {},
   "outputs": [],
   "source": [
    "people = [{'name': 'bob', 'age': 20}, \n",
    "          {'name': 'carry', 'age': 38},\n",
    "          {'name': 'john', 'age': 7},\n",
    "          {'name': 'smith', 'age': 17},\n",
    "          {'name': 'ben', 'age': 27}]"
   ]
  },
  {
   "cell_type": "code",
   "execution_count": 22,
   "metadata": {
    "tags": []
   },
   "outputs": [
    {
     "output_type": "stream",
     "name": "stdout",
     "text": "20\n38\n7\n17\n27\n"
    }
   ],
   "source": [
    "for person in people :\n",
    "    print(person['age'])"
   ]
  },
  {
   "cell_type": "code",
   "execution_count": 23,
   "metadata": {
    "tags": []
   },
   "outputs": [
    {
     "output_type": "stream",
     "name": "stdout",
     "text": "38\n27\n"
    }
   ],
   "source": [
    "for person in people :\n",
    "    if person['age'] > 20 : \n",
    "        print(person['age'])"
   ]
  },
  {
   "source": [
    "## 내장함수"
   ],
   "cell_type": "markdown",
   "metadata": {}
  },
  {
   "cell_type": "code",
   "execution_count": 24,
   "metadata": {
    "tags": []
   },
   "outputs": [
    {
     "output_type": "stream",
     "name": "stdout",
     "text": "timia694\n"
    }
   ],
   "source": [
    "myemail = 'timia694@gmail.com'\n",
    "\n",
    "result = myemail.split('@')\n",
    "print(result[0])"
   ]
  },
  {
   "cell_type": "code",
   "execution_count": 25,
   "metadata": {
    "tags": []
   },
   "outputs": [
    {
     "output_type": "stream",
     "name": "stdout",
     "text": "gmail\n"
    }
   ],
   "source": [
    "result = myemail.split('@')[1].split('.')[0]\n",
    "print(result)"
   ]
  },
  {
   "cell_type": "code",
   "execution_count": 26,
   "metadata": {
    "tags": []
   },
   "outputs": [
    {
     "output_type": "stream",
     "name": "stdout",
     "text": "timia694@naver.com\n"
    }
   ],
   "source": [
    "result = myemail.replace('gmail', 'naver')\n",
    "print(result)"
   ]
  },
  {
   "source": [
    "# 이미지 웹 스크래핑(크롤링)하기"
   ],
   "cell_type": "markdown",
   "metadata": {}
  },
  {
   "cell_type": "code",
   "execution_count": 27,
   "metadata": {},
   "outputs": [],
   "source": [
    "from selenium import webdriver\n",
    "driver = webdriver.Chrome('tool/chromedriver')\n",
    "\n",
    "driver.get(\"http://www.naver.com\")"
   ]
  },
  {
   "cell_type": "code",
   "execution_count": 36,
   "metadata": {},
   "outputs": [],
   "source": [
    "driver.quit()"
   ]
  },
  {
   "cell_type": "code",
   "execution_count": 32,
   "metadata": {
    "tags": []
   },
   "outputs": [
    {
     "output_type": "stream",
     "name": "stdout",
     "text": "https://search2.kakaocdn.net/argon/0x200_85_hr/LpXJgtYxrO2\nhttps://search4.kakaocdn.net/argon/0x200_85_hr/Kq9CezQ0nvK\nhttps://search3.kakaocdn.net/argon/0x200_85_hr/DOLFoOkt08J\nhttps://search1.kakaocdn.net/argon/0x200_85_hr/HOgtg2v9HrQ\nhttps://search2.kakaocdn.net/argon/0x200_85_hr/AeUZT9W2rT3\nhttps://search2.kakaocdn.net/argon/0x200_85_hr/9WEAnlTi0Lo\nhttps://search1.kakaocdn.net/argon/0x200_85_hr/5nOifKOwMtg\nhttps://search3.kakaocdn.net/argon/0x200_85_hr/3f72Ne4FoXR\nhttps://search1.kakaocdn.net/argon/0x200_85_hr/HI2K9THUCb5\nhttps://search3.kakaocdn.net/argon/0x200_85_hr/LPa92pKLNKJ\nhttps://search4.kakaocdn.net/argon/0x200_85_hr/6vLaIMhLGRb\nhttps://search2.kakaocdn.net/argon/0x200_85_hr/CNG2GgCvqKP\nhttps://search2.kakaocdn.net/argon/0x200_85_hr/HM2WnODYsFl\nhttps://search4.kakaocdn.net/argon/0x200_85_hr/9jyWqUtkVox\nhttps://search2.kakaocdn.net/argon/0x200_85_hr/oPrw80cB9V\nhttps://search1.kakaocdn.net/argon/0x200_85_hr/5GvJF9uEHzo\nhttps://search4.kakaocdn.net/argon/0x200_85_hr/EmMK44WNZkK\nhttps://search1.kakaocdn.net/argon/0x200_85_hr/9JfLOFCyh4K\nhttps://search3.kakaocdn.net/argon/0x200_85_hr/8ACnQQmumSo\nhttps://search4.kakaocdn.net/argon/0x200_85_hr/GOeVKlakOlv\nhttps://search2.kakaocdn.net/argon/0x200_85_hr/JPKuDTjYJ9x\nhttps://search4.kakaocdn.net/argon/0x200_85_hr/GeDhPqgTpti\nhttps://search2.kakaocdn.net/argon/0x200_85_hr/DzEUl5QyGPg\nhttps://search3.kakaocdn.net/argon/0x200_85_hr/Ca3OC9U7mqO\nhttps://search2.kakaocdn.net/argon/0x200_85_hr/5mvnL6QkJbH\nhttps://search4.kakaocdn.net/argon/0x200_85_hr/3FSfnx1TFQI\nhttps://search1.kakaocdn.net/argon/0x200_85_hr/5vQtqhfq1qS\nhttps://search2.kakaocdn.net/argon/0x200_85_hr/JkwVe2glmPj\nhttps://search3.kakaocdn.net/argon/0x200_85_hr/EmjgMmeIUwU\nhttps://search4.kakaocdn.net/argon/0x200_85_hr/Js4OK2C7Ops\nhttps://search3.kakaocdn.net/argon/0x200_85_hr/KTqf9d8xN2w\nhttps://search2.kakaocdn.net/argon/0x200_85_hr/2IyChZ2saAj\nhttps://search2.kakaocdn.net/argon/0x200_85_hr/263zAVgtwjE\nhttps://search1.kakaocdn.net/argon/0x200_85_hr/IfEqw1PzKyO\nhttps://search4.kakaocdn.net/argon/0x200_85_hr/CjJmBlbkDfN\nhttps://search2.kakaocdn.net/argon/0x200_85_hr/IDRzA2pcm7T\nhttps://search3.kakaocdn.net/argon/0x200_85_hr/5CETBxYsNdd\nhttps://search3.kakaocdn.net/argon/0x200_85_hr/qFA6yjx1Gc\nhttps://search3.kakaocdn.net/argon/0x200_85_hr/8B49OENzrXt\nhttps://search3.kakaocdn.net/argon/0x200_85_hr/BcsA2i9YAZC\nhttps://search1.kakaocdn.net/argon/0x200_85_hr/KQiHn7PiY8S\nhttps://search3.kakaocdn.net/argon/0x200_85_hr/7emfGlL1zPu\nhttps://search2.kakaocdn.net/argon/0x200_85_hr/KVsudMOGXkJ\nhttps://search1.kakaocdn.net/argon/0x200_85_hr/FiaLrg87oPw\nhttps://search4.kakaocdn.net/argon/0x200_85_hr/5b1BrFGJfNj\nhttps://search3.kakaocdn.net/argon/0x200_85_hr/HSUonMYtHR0\nhttps://search4.kakaocdn.net/argon/0x200_85_hr/2E5jD07tys3\nhttps://search2.kakaocdn.net/argon/0x200_85_hr/6lR7YHz6mjN\nhttps://search4.kakaocdn.net/argon/0x200_85_hr/BIiIDeu8S8z\nhttps://search4.kakaocdn.net/argon/0x200_85_hr/Hoz2a9Iqzwv\nhttps://search4.kakaocdn.net/argon/0x200_85_hr/xbLt8yZuDN\nhttps://search2.kakaocdn.net/argon/0x200_85_hr/9zQ37kVieqi\nhttps://search3.kakaocdn.net/argon/0x200_85_hr/C7gVeYA151q\nhttps://search3.kakaocdn.net/argon/0x200_85_hr/7hjSaz67oWY\nhttps://search3.kakaocdn.net/argon/0x200_85_hr/CGxapHsm1LO\nhttps://search4.kakaocdn.net/argon/0x200_85_hr/5ZRj57IAqxP\nhttps://search1.kakaocdn.net/argon/0x200_85_hr/6acJch3GXgm\nhttps://search2.kakaocdn.net/argon/0x200_85_hr/BXlmznYvmbO\nhttps://search2.kakaocdn.net/argon/0x200_85_hr/2V931dJvdMj\nhttps://search2.kakaocdn.net/argon/0x200_85_hr/6FYbEqCWuXa\nhttps://search1.kakaocdn.net/argon/0x200_85_hr/GXBzuIS6N1R\nhttps://search1.kakaocdn.net/argon/0x200_85_hr/Hm653VVG51Z\nhttps://search2.kakaocdn.net/argon/0x200_85_hr/3hSPDx5lqEf\nhttps://search3.kakaocdn.net/argon/0x200_85_hr/GyffHlfW6YI\nhttps://search3.kakaocdn.net/argon/0x200_85_hr/Bz3SAtNbHsX\nhttps://search2.kakaocdn.net/argon/0x200_85_hr/5EaSfkHAIDp\nhttps://search2.kakaocdn.net/argon/0x200_85_hr/Lip7HA2OvsU\nhttps://search2.kakaocdn.net/argon/0x200_85_hr/EGXKIXLGz99\nhttps://search1.kakaocdn.net/argon/0x200_85_hr/I1ep2ENMKuX\nhttps://search2.kakaocdn.net/argon/0x200_85_hr/5Z0jtb9rza9\nhttps://search3.kakaocdn.net/argon/0x200_85_hr/IdI0XuJUXhC\nhttps://search1.kakaocdn.net/argon/0x200_85_hr/5pi9e5E4P4S\nhttps://search4.kakaocdn.net/argon/0x200_85_hr/27qkdK7FFn9\nhttps://search2.kakaocdn.net/argon/0x200_85_hr/AtQfH40UHse\nhttps://search2.kakaocdn.net/argon/0x200_85_hr/qpwuYce2mT\nhttps://search1.kakaocdn.net/argon/0x200_85_hr/C8Jiq7GhVYG\nhttps://search3.kakaocdn.net/argon/0x200_85_hr/59JyHIHZp1q\nhttps://search4.kakaocdn.net/argon/0x200_85_hr/IqOGmZ8VFpt\nhttps://search2.kakaocdn.net/argon/0x200_85_hr/9WFYH4D908T\nhttps://search1.kakaocdn.net/argon/0x200_85_hr/FHLyfaRT4Nw\n"
    }
   ],
   "source": [
    "from bs4 import BeautifulSoup\n",
    "from selenium import webdriver\n",
    "from urllib.request import urlopen\n",
    "import time\n",
    "\n",
    "driver = webdriver.Chrome('tool/chromedriver') # 웹드라이버 파일의 경로\n",
    "driver.get(\"https://search.daum.net/search?w=img&nil_search=btn&DA=NTB&enc=utf8&q=%EC%95%84%EC%9D%B4%EC%9C%A0\")\n",
    "time.sleep(5) # 5초 동안 페이지 로딩 기다리기\n",
    "\n",
    "req = driver.page_source\n",
    "# HTML을 BeautifulSoup이라는 라이브러리를 활용해 검색하기 용이한 상태로 만듦\n",
    "# soup이라는 변수에 \"파싱 용이해진 html\"이 담긴 상태가 됨\n",
    "# 이제 코딩을 통해 필요한 부분을 추출하면 된다.\n",
    "soup = BeautifulSoup(req, 'html.parser')\n",
    "\n",
    "###################################\n",
    "thumbnails = soup.select(\"#imgList > div > a > img\")\n",
    "\n",
    "for thumbnail in thumbnails:\n",
    "    src = thumbnail[\"src\"]\n",
    "    print(src)\n",
    "###################################\n",
    "\n",
    "driver.quit() # 끝나면 닫아주기"
   ]
  },
  {
   "source": [
    "- 선택자를 사용하는 방법 (copy selector)\n",
    "    - soup.select('태그명')\n",
    "    - soup.select('.클래스명')\n",
    "    - soup.select('#아이디명')\n",
    "    - soup.select('상위태그명 > 하위태그명 > 하위태그명')\n",
    "    - soup.select('상위태그명.클래스명 > 하위태그명.클래스명')\n",
    "\n",
    "- 태그와 속성값으로 찾는 방법\n",
    "    - soup.select('태그명[속성=\"값\"]')\n",
    "\n",
    "- 한 개만 가져오고 싶은 경우\n",
    "    - soup.select_one('위와 동일')"
   ],
   "cell_type": "markdown",
   "metadata": {}
  },
  {
   "cell_type": "code",
   "execution_count": 37,
   "metadata": {},
   "outputs": [],
   "source": [
    "driver = webdriver.Chrome('tool/chromedriver')\n",
    "driver.get(\"https://search.daum.net/search?w=img&nil_search=btn&DA=NTB&enc=utf8&q=%EC%95%84%EC%9D%B4%EC%9C%A0\")\n",
    "time.sleep(5)\n",
    "\n",
    "req = driver.page_source\n",
    "\n",
    "soup = BeautifulSoup(req, 'html.parser')\n",
    "\n",
    "thumbnails = soup.select(\"#imgList > div > a > img\")\n",
    "\n",
    "i=1\n",
    "for thumbnail in thumbnails:\n",
    "    src = thumbnail[\"src\"]\n",
    "    with urlopen(src) as f:\n",
    "        with open('./images/img' + str(i)+'.jpg','wb') as h:\n",
    "            img = f.read()\n",
    "            h.write(img)\n",
    "    i+=1\n",
    "\n",
    "driver.quit() # 끝나면 닫아주기"
   ]
  }
 ]
}